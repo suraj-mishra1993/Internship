{
 "cells": [
  {
   "cell_type": "code",
   "execution_count": 1,
   "id": "ca8635bf",
   "metadata": {},
   "outputs": [
    {
     "data": {
      "text/plain": [
       "24"
      ]
     },
     "execution_count": 1,
     "metadata": {},
     "output_type": "execute_result"
    }
   ],
   "source": [
    "6<<2"
   ]
  },
  {
   "cell_type": "raw",
   "id": "8fba0498",
   "metadata": {},
   "source": [
    "Q11. Write a python program to find the factorial of a number."
   ]
  },
  {
   "cell_type": "code",
   "execution_count": 2,
   "id": "130c2c6e",
   "metadata": {},
   "outputs": [
    {
     "name": "stdout",
     "output_type": "stream",
     "text": [
      "Enter any number :-5\n",
      "Factorial value ;- 120\n"
     ]
    }
   ],
   "source": [
    "# using while loop\n",
    "i = int(input('Enter any number :-'))\n",
    "\n",
    "fact = 1\n",
    "\n",
    "while (i>0):\n",
    "    fact = fact*i\n",
    "    \n",
    "    i-=1\n",
    "print('Factorial value ;-', fact)"
   ]
  },
  {
   "cell_type": "code",
   "execution_count": 3,
   "id": "6fba6ba2",
   "metadata": {},
   "outputs": [
    {
     "name": "stdout",
     "output_type": "stream",
     "text": [
      "Enter any number :-4\n",
      "Factorial value :- 24\n"
     ]
    }
   ],
   "source": [
    "# using for loop\n",
    "n = int(input('Enter any number :-'))\n",
    "\n",
    "F = 1\n",
    "for i in range(1,n+1):\n",
    "    F = F*i\n",
    "    \n",
    "print('Factorial value :-', F)\n",
    "    "
   ]
  },
  {
   "cell_type": "raw",
   "id": "7b9d4b83",
   "metadata": {},
   "source": [
    "Q12. Write a python program to find whether a number is prime or composite."
   ]
  },
  {
   "cell_type": "code",
   "execution_count": 4,
   "id": "63a28439",
   "metadata": {},
   "outputs": [
    {
     "name": "stdout",
     "output_type": "stream",
     "text": [
      "enter any number :-7\n",
      "number is prime :- 7\n"
     ]
    }
   ],
   "source": [
    "num = int(input('enter any number :-'))\n",
    "if num>1:\n",
    "    for i in range(2,num):\n",
    "        if num%i==0:\n",
    "            print('number is not prime :-',num)\n",
    "            break\n",
    "            \n",
    "    else:\n",
    "        print('number is prime :-', num)\n",
    "        \n",
    "elif num==0 or 1:\n",
    "    print('number is a neither prime nor composite number :-', num)\n",
    "    \n",
    "else:\n",
    "    print('Number is not a prime number it is a composite number :- ', num)"
   ]
  },
  {
   "cell_type": "code",
   "execution_count": 5,
   "id": "657d2799",
   "metadata": {},
   "outputs": [
    {
     "name": "stdout",
     "output_type": "stream",
     "text": [
      "Enter a number: 35\n",
      "35 is a composite number.\n"
     ]
    }
   ],
   "source": [
    "def is_prime(number):\n",
    "    if number <= 1:\n",
    "        return False\n",
    "    elif number <= 3:\n",
    "        return True\n",
    "    elif number % 2 == 0 or number % 3 == 0:\n",
    "        return False\n",
    "    \n",
    "    i = 5\n",
    "    while i * i <= number:\n",
    "        if number % i == 0 or number % (i + 2) == 0:\n",
    "            return False\n",
    "        i += 6\n",
    "    \n",
    "    return True\n",
    "\n",
    "# Input from the user\n",
    "num = int(input(\"Enter a number: \"))\n",
    "\n",
    "if is_prime(num):\n",
    "    print(f\"{num} is a prime number.\")\n",
    "else:\n",
    "    print(f\"{num} is a composite number.\")\n"
   ]
  },
  {
   "cell_type": "raw",
   "id": "b15fd549",
   "metadata": {},
   "source": [
    "Q13. Write a python program to check whether a given string is palindrome or not.\n"
   ]
  },
  {
   "cell_type": "code",
   "execution_count": 6,
   "id": "62b9ab75",
   "metadata": {},
   "outputs": [
    {
     "name": "stdout",
     "output_type": "stream",
     "text": [
      "enter any number:121\n",
      "entered number is palindrom: 121\n"
     ]
    }
   ],
   "source": [
    "num=int(input(\"enter any number:\"))\n",
    "a=num\n",
    "s=0\n",
    "while num>0:\n",
    "    rem=num%10\n",
    "    s=(s*10)+rem\n",
    "    \n",
    "    num=num//10\n",
    "    \n",
    "if a==s:\n",
    "    print(\"entered number is palindrom:\",a)\n",
    "    \n",
    "else:\n",
    "    print(\"entered number is not palindrom:\", a)"
   ]
  },
  {
   "cell_type": "raw",
   "id": "f33afdee",
   "metadata": {},
   "source": [
    "Q14. Write a Python program to get the third side of right-angled triangle from two given sides."
   ]
  },
  {
   "cell_type": "code",
   "execution_count": 7,
   "id": "1a6ca166",
   "metadata": {},
   "outputs": [
    {
     "name": "stdout",
     "output_type": "stream",
     "text": [
      "Hypotenuse = 5.0\n",
      "Adjacent = 4.0\n",
      "Opposite = 3.0\n",
      "You know the answer!\n"
     ]
    }
   ],
   "source": [
    "def pythagoras(opposite_side,adjacent_side,hypotenuse):\n",
    "        if opposite_side == str(\"x\"):\n",
    "            return (\"Opposite = \" + str(((hypotenuse**2) - (adjacent_side**2))**0.5))\n",
    "        elif adjacent_side == str(\"x\"):\n",
    "            return (\"Adjacent = \" + str(((hypotenuse**2) - (opposite_side**2))**0.5))\n",
    "        elif hypotenuse == str(\"x\"):\n",
    "            return (\"Hypotenuse = \" + str(((opposite_side**2) + (adjacent_side**2))**0.5))\n",
    "        else:\n",
    "            return \"You know the answer!\"\n",
    "    \n",
    "print(pythagoras(3,4,'x'))\n",
    "print(pythagoras(3,'x',5))\n",
    "print(pythagoras('x',4,5))\n",
    "print(pythagoras(3,4,5))\n"
   ]
  },
  {
   "cell_type": "raw",
   "id": "c1a53672",
   "metadata": {},
   "source": [
    "Q15. Write a python program to print the frequency of each of the characters present in a given string"
   ]
  },
  {
   "cell_type": "code",
   "execution_count": 8,
   "id": "b3df4488",
   "metadata": {},
   "outputs": [
    {
     "name": "stdout",
     "output_type": "stream",
     "text": [
      "Enter the string: uhsufyh8hegrknedjeurujrur23y743rgeyt78r3rtr3ty34y3refgbsdffbf\n",
      "{'u': 5, 'h': 3, 's': 2, 'f': 5, 'y': 5, '8': 2, 'e': 5, 'g': 3, 'r': 9, 'k': 1, 'n': 1, 'd': 2, 'j': 2, '2': 1, '3': 6, '7': 2, '4': 2, 't': 3, 'b': 2}\n"
     ]
    }
   ],
   "source": [
    "str1 = input (\"Enter the string: \")\n",
    "d = dict()\n",
    "for c in str1:\n",
    "    if c in d:\n",
    "        d[c] = d[c] + 1\n",
    "    else:\n",
    "        d[c] = 1\n",
    "print(d)\n"
   ]
  },
  {
   "cell_type": "code",
   "execution_count": null,
   "id": "b5e1aea6",
   "metadata": {},
   "outputs": [],
   "source": []
  }
 ],
 "metadata": {
  "kernelspec": {
   "display_name": "Python 3 (ipykernel)",
   "language": "python",
   "name": "python3"
  },
  "language_info": {
   "codemirror_mode": {
    "name": "ipython",
    "version": 3
   },
   "file_extension": ".py",
   "mimetype": "text/x-python",
   "name": "python",
   "nbconvert_exporter": "python",
   "pygments_lexer": "ipython3",
   "version": "3.9.13"
  }
 },
 "nbformat": 4,
 "nbformat_minor": 5
}
